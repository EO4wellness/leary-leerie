{
  "nbformat": 4,
  "nbformat_minor": 0,
  "metadata": {
    "colab": {
      "name": "Text-To-Speech.ipynb",
      "provenance": [],
      "authorship_tag": "ABX9TyMv2smCCYW7zG7/wlMXXG52",
      "include_colab_link": true
    },
    "kernelspec": {
      "name": "python3",
      "display_name": "Python 3"
    },
    "language_info": {
      "name": "python"
    }
  },
  "cells": [
    {
      "cell_type": "markdown",
      "metadata": {
        "id": "view-in-github",
        "colab_type": "text"
      },
      "source": [
        "<a href=\"https://colab.research.google.com/github/EO4wellness/leary-leerie/blob/master/Text_To_Speech.ipynb\" target=\"_parent\"><img src=\"https://colab.research.google.com/assets/colab-badge.svg\" alt=\"Open In Colab\"/></a>"
      ]
    },
    {
      "cell_type": "markdown",
      "metadata": {
        "id": "qkcsm4HD1fN6"
      },
      "source": [
        "Install Dependenceis: "
      ]
    },
    {
      "cell_type": "code",
      "metadata": {
        "colab": {
          "base_uri": "https://localhost:8080/"
        },
        "id": "_4KDwxGw1QYK",
        "outputId": "aa21814a-d9e4-4c98-e158-c850f8673794"
      },
      "source": [
        "!pip install ibm_watson"
      ],
      "execution_count": 2,
      "outputs": [
        {
          "output_type": "stream",
          "text": [
            "Requirement already satisfied: ibm_watson in /usr/local/lib/python3.7/dist-packages (5.2.1)\n",
            "Requirement already satisfied: ibm-cloud-sdk-core==3.*,>=3.3.6 in /usr/local/lib/python3.7/dist-packages (from ibm_watson) (3.10.0)\n",
            "Requirement already satisfied: requests<3.0,>=2.0 in /usr/local/lib/python3.7/dist-packages (from ibm_watson) (2.23.0)\n",
            "Requirement already satisfied: websocket-client==1.1.0 in /usr/local/lib/python3.7/dist-packages (from ibm_watson) (1.1.0)\n",
            "Requirement already satisfied: python-dateutil>=2.5.3 in /usr/local/lib/python3.7/dist-packages (from ibm_watson) (2.8.1)\n",
            "Requirement already satisfied: PyJWT<3.0.0,>=2.0.1 in /usr/local/lib/python3.7/dist-packages (from ibm-cloud-sdk-core==3.*,>=3.3.6->ibm_watson) (2.1.0)\n",
            "Requirement already satisfied: certifi>=2017.4.17 in /usr/local/lib/python3.7/dist-packages (from requests<3.0,>=2.0->ibm_watson) (2021.5.30)\n",
            "Requirement already satisfied: chardet<4,>=3.0.2 in /usr/local/lib/python3.7/dist-packages (from requests<3.0,>=2.0->ibm_watson) (3.0.4)\n",
            "Requirement already satisfied: idna<3,>=2.5 in /usr/local/lib/python3.7/dist-packages (from requests<3.0,>=2.0->ibm_watson) (2.10)\n",
            "Requirement already satisfied: urllib3!=1.25.0,!=1.25.1,<1.26,>=1.21.1 in /usr/local/lib/python3.7/dist-packages (from requests<3.0,>=2.0->ibm_watson) (1.24.3)\n",
            "Requirement already satisfied: six>=1.5 in /usr/local/lib/python3.7/dist-packages (from python-dateutil>=2.5.3->ibm_watson) (1.15.0)\n"
          ],
          "name": "stdout"
        }
      ]
    },
    {
      "cell_type": "markdown",
      "metadata": {
        "id": "OmbZVjn81d78"
      },
      "source": [
        "Authenticate:\n",
        "\n",
        "*   To use IBM Watson visit: \n",
        "*   cloud.ibm.com/catalog\n",
        "\n",
        "*   Select Services \n",
        "*   Then select AI/Machine learning \n",
        "\n",
        "\n",
        "*   Select: Text To Speech \n",
        "*   the free \"lite\" plan will give us 10,000 characters of converstion per month for free \n",
        "\n",
        "\n",
        "*   it will auto delete afer 30 days of inactivity\n",
        "*   perfect for learning-click to create this free service \n",
        "\n",
        "\n",
        "*   Note the given service API KEY and service URL\n",
        "*   Find this under your newly created service and the \"MANAGE\" menu \n",
        "\n",
        "\n",
        "\n",
        "\n",
        "\n",
        "\n",
        "\n",
        "\n",
        "\n",
        "\n"
      ]
    },
    {
      "cell_type": "markdown",
      "metadata": {
        "id": "yn5kmSay3K4n"
      },
      "source": [
        "Create two new variables to store the API key and the service URL to authenticate our service "
      ]
    },
    {
      "cell_type": "code",
      "metadata": {
        "id": "yluNu3p61T2i"
      },
      "source": [
        "# cut and paste the URL from the above box intructions between the single quotes here: \n",
        "url = ''"
      ],
      "execution_count": null,
      "outputs": []
    },
    {
      "cell_type": "code",
      "metadata": {
        "id": "g4mdwCPW3YV-"
      },
      "source": [
        "# cut and paste the apikey from the above instruction box between the single quotes here:\n",
        "apikey =''"
      ],
      "execution_count": null,
      "outputs": []
    },
    {
      "cell_type": "code",
      "metadata": {
        "id": "JZ0aaVam3wDk"
      },
      "source": [
        "from ibm_watson import TextToSpeechV1"
      ],
      "execution_count": 3,
      "outputs": []
    },
    {
      "cell_type": "code",
      "metadata": {
        "id": "JKREvk3Z30VE"
      },
      "source": [
        "from ibm_cloud_sdk_core.authenticators import IAMAuthenticator"
      ],
      "execution_count": null,
      "outputs": []
    },
    {
      "cell_type": "code",
      "metadata": {
        "id": "uhpA1KO74JQU"
      },
      "source": [
        "# setup service \n",
        "authenticator = IAMAuthenticator(apikey)\n",
        "# new text to speech service \n",
        "tts = TextToSpeechV1(authenticator=authenticator)\n",
        "# set service url \n",
        "tts.set_service_url(url)"
      ],
      "execution_count": 4,
      "outputs": []
    },
    {
      "cell_type": "markdown",
      "metadata": {
        "id": "z6_J0D4-45DC"
      },
      "source": [
        "Convert a STRING or TEXT. Put the file in the same folder as the IPYNB notebook.  You can replace the voice model with any available voice. Switch \"en-US_AllisonV3Voice\" with the model you want to use instead. \n",
        "\n",
        "Likewise, the code below assumes we are sythesizing speach.  If you want the output to say something other than \"Hello World\" either replace it with the output you would prefer, or read in a text file for the output to be the entire text file. "
      ]
    },
    {
      "cell_type": "code",
      "metadata": {
        "id": "ZvTihfO14LJ0"
      },
      "source": [
        "with open('.speech.mp3', 'wb') as audio_file:\n",
        "  res = tts.synthesize('Hello World!', accept='audio/mp3', voice='en-US_AllisonV3Voice').get_result()\n",
        "  audio_file.write(res.content)"
      ],
      "execution_count": null,
      "outputs": []
    },
    {
      "cell_type": "markdown",
      "metadata": {
        "id": "OCGJWLz4KuMp"
      },
      "source": [
        "To Covert speech from a file requires a bit of pre-processing.  We want our text to be ONE single block of text and we need to include escape or regular expressions such as \\n for new lines and so on, following the normal text protocols for strings/arrays within the Python language syntax. "
      ]
    },
    {
      "cell_type": "code",
      "metadata": {
        "id": "v4-1qUxDLH5R"
      },
      "source": [
        "with open('textFileName.txt', 'r') as f:\n",
        "  text = f.readlines()"
      ],
      "execution_count": null,
      "outputs": []
    },
    {
      "cell_type": "code",
      "metadata": {
        "id": "HSp5YRAsLUxe"
      },
      "source": [
        "text"
      ],
      "execution_count": null,
      "outputs": []
    },
    {
      "cell_type": "code",
      "metadata": {
        "id": "9KrsD-YRLV9V"
      },
      "source": [
        "text =(line.replace('\\n', '') for line in text)\n",
        "text =''.join(str(line) for line in text)"
      ],
      "execution_count": null,
      "outputs": []
    },
    {
      "cell_type": "code",
      "metadata": {
        "id": "-dCFEDZuLuD9"
      },
      "source": [
        "with open('.textFileName.mp3', 'wb') as audio_file:\n",
        "  res = tts.synthesize(text, accept='audio/mp3', voice='en-US_AllisonV3Voice').get_result()\n",
        "  audio_file.write(res.content)"
      ],
      "execution_count": null,
      "outputs": []
    },
    {
      "cell_type": "markdown",
      "metadata": {
        "id": "nEBF5EJALnm4"
      },
      "source": [
        "Using a different Language \n",
        "Go to documentation to see all of the language formats which are supported. "
      ]
    },
    {
      "cell_type": "code",
      "metadata": {
        "id": "8lgw_wsqMbzz"
      },
      "source": [
        "voice = 'fr-FR_ReneeV3Voice'"
      ],
      "execution_count": null,
      "outputs": []
    },
    {
      "cell_type": "code",
      "metadata": {
        "id": "DPoY_3BNM48j"
      },
      "source": [
        "text = '''Frère Jacques. \n",
        "Frère Jacques.\n",
        "Dormez vous? \n",
        "Dormez vous?\n",
        "Sonnez les matines.\n",
        "Sonnez les matines.'''"
      ],
      "execution_count": 3,
      "outputs": []
    },
    {
      "cell_type": "code",
      "metadata": {
        "id": "LBIbm11yMBgs"
      },
      "source": [
        "with open('.textFileName.mp3', 'wb') as audio_file:\n",
        "  res = tts.synthesize(text, accept='audio/mp3', voice=voice).get_result()\n",
        "  audio_file.write(res.content)"
      ],
      "execution_count": null,
      "outputs": []
    },
    {
      "cell_type": "markdown",
      "metadata": {
        "id": "3XX3GgrbNxCi"
      },
      "source": [
        "This is my follow along and notes from watching Nicknochnack [YouTube](https://youtu.be/8k8S5ruFAUs) and [GitHub ](https://github.com/nicknochnack/TextToSpeech)\n",
        "\n",
        "IBM Text to Speech: [Languages and Voices](https://cloud.ibm.com/docs/text-to-speech?topic=text-to-speech-voices) "
      ]
    },
    {
      "cell_type": "code",
      "metadata": {
        "id": "xKMhDhxPN1Nw"
      },
      "source": [
        ""
      ],
      "execution_count": null,
      "outputs": []
    }
  ]
}